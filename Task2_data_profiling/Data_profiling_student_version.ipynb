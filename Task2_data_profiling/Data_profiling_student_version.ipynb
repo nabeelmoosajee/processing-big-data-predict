{
 "cells": [
  {
   "cell_type": "markdown",
   "metadata": {},
   "source": [
    "# Processing Big Data - Data profiling\n",
    "\n",
    "© Explore Data Science Academy\n",
    "\n",
    "## Honour Code\n",
    "I {**Nabeel**, **Moosajee**}, confirm - by submitting this document - that the solutions in this notebook are a result of my own work and that I abide by the [EDSA honour code](https://drive.google.com/file/d/1QDCjGZJ8-FmJE3bZdIQNwnJyQKPhHZBn/view?usp=sharing).\n",
    "    Non-compliance with the honour code constitutes a material breach of contract.\n",
    "\n",
    "## Context\n",
    "\n",
    "Having completed the first step - data ingestion, the data now needs to be thoroughly prepared so that it is readable, reliable and robust. As the Data Engineer in the team, this will be your responsibility. The Data Scientists are looking to you to clean this data so that model development and deployment become seamless when the data is used in a production environment. Having completed your Data Engineering course recently, your manager Gnissecorp Atadgid, asks you to create data summaries and perform checks using the six dimensions of data quality.\n",
    "\n",
    "<div align=\"center\" style=\"width: 600px; font-size: 80%; text-align: center; margin: 0 auto\">\n",
    "<img src=\"https://github.com/Explore-AI/Pictures/raw/master/data_engineering/transform/predict/DataQuality.jpg\"\n",
    "     alt=\"Data Quality\"\n",
    "     style=\"float: center; padding-bottom=0.5em\"\n",
    "     width=100%/>\n",
    "     <p><em>Figure 1. Six dimensions of data quality</em></p>\n",
    "</div>"
   ]
  },
  {
   "cell_type": "markdown",
   "metadata": {},
   "source": [
    "## Import libraries\n",
    "Below we import the libraries required to complete this section of the predict."
   ]
  },
  {
   "cell_type": "code",
   "execution_count": 1,
   "metadata": {},
   "outputs": [],
   "source": [
    "import pandas as pd\n",
    "import numpy as np\n",
    "import matplotlib.pyplot as plt\n",
    "\n",
    "from pyspark import SparkContext\n",
    "from pyspark.sql import SparkSession\n",
    "from pyspark.sql import functions as F\n",
    "from pyspark.sql.types import *"
   ]
  },
  {
   "cell_type": "markdown",
   "metadata": {},
   "source": [
    "Remember that we need a `SparkContext` and `SparkSession` to interface with Spark.\n",
    "We will mostly be using the `SparkContext` to interact with RDDs \n",
    "and the `SparkSession` to interface with Python objects.\n",
    "\n",
    "> ℹ️ **Instructions** ℹ️\n",
    ">\n",
    ">Initialise a new **Spark Context** and **Session** that you will use to interface with Spark."
   ]
  },
  {
   "cell_type": "code",
   "execution_count": 2,
   "metadata": {},
   "outputs": [],
   "source": [
    "#TODO: Write your code here.\n",
    "spark = SparkSession.builder\\\n",
    "  .master(\"local[*]\")\\\n",
    "  .appName(\"big-data\")\\\n",
    "  .getOrCreate()"
   ]
  },
  {
   "cell_type": "markdown",
   "metadata": {},
   "source": [
    "## Parquet files\n",
    "In the previous section of the predict, you generated parquet files to your local directory. You will be making use of these files to continue with this section of the predict. Please make sure that your parquet files are specifically for the year **1962**. Any other year used outside of **1962** will produce incorrect answers and have a negative impact on your overall predict mark.\n",
    "\n",
    "> ℹ️ **Instructions** ℹ️\n",
    ">\n",
    "> Read the parquet files stored in your directory for the year **1962** into a Spark DataFrame."
   ]
  },
  {
   "cell_type": "code",
   "execution_count": 3,
   "metadata": {},
   "outputs": [
    {
     "name": "stdout",
     "output_type": "stream",
     "text": [
      "+----------+---------+----------+----------+---------+-----------+--------+-----+\n",
      "|      date|     open|      high|       low|    close|  adj_close|  Volume|stock|\n",
      "+----------+---------+----------+----------+---------+-----------+--------+-----+\n",
      "|1962-02-19|  5.83929|  5.907375|   5.83929|  5.86332|  1.3863293| 29900.0|   AA|\n",
      "|1962-02-19| 5.481634|  5.528486|  5.481634|5.5167727|  1.2804527| 32000.0| ARNC|\n",
      "|1962-02-19|0.9074074|0.91563785|0.89917696|0.9032922| 0.16141544|619400.0|   BA|\n",
      "|1962-02-19|1.6770834| 1.6927084| 1.6614584|1.6770834|  0.1440587|170400.0|  CAT|\n",
      "|1962-02-19|      0.0|  3.578869|      20.0| 3.549107|0.056501225|273600.0|  CVX|\n",
      "+----------+---------+----------+----------+---------+-----------+--------+-----+\n",
      "only showing top 5 rows\n",
      "\n"
     ]
    }
   ],
   "source": [
    "#TODO: Write your code here\n",
    "stocks = spark.read.parquet('../output_parquet/1962/*')\n",
    "stocks.show(5)"
   ]
  },
  {
   "cell_type": "markdown",
   "metadata": {},
   "source": [
    "## Metadata \n",
    "\n",
    "Metadata is data containing additional information about the data itself. In the cloud storage, there is a metadata file called [`symbols_valid_meta.csv`](https://processing-big-data-predict-stocks-data.s3.eu-west-1.amazonaws.com/symbols_valid_meta.csv) that is collocated with the stock market data. You will need to download this to use when performing your data quality checks.\n",
    "\n",
    "> ℹ️ **Instructions** ℹ️\n",
    ">\n",
    "> Download the metadata from the S3 bucket and read it into a Spark DataFrame."
   ]
  },
  {
   "cell_type": "code",
   "execution_count": 4,
   "metadata": {},
   "outputs": [
    {
     "name": "stdout",
     "output_type": "stream",
     "text": [
      "+-------------+------+--------------------+----------------+---------------+---+--------------+----------+----------------+----------+-------------+----------+\n",
      "|Nasdaq Traded|Symbol|       Security Name|Listing Exchange|Market Category|ETF|Round Lot Size|Test Issue|Financial Status|CQS Symbol|NASDAQ Symbol|NextShares|\n",
      "+-------------+------+--------------------+----------------+---------------+---+--------------+----------+----------------+----------+-------------+----------+\n",
      "|            Y|     A|Agilent Technolog...|               N|               |  N|         100.0|         N|            null|         A|            A|         N|\n",
      "|            Y|    AA|Alcoa Corporation...|               N|               |  N|         100.0|         N|            null|        AA|           AA|         N|\n",
      "|            Y|  AAAU|Perth Mint Physic...|               P|               |  Y|         100.0|         N|            null|      AAAU|         AAAU|         N|\n",
      "|            Y|  AACG|ATA Creativity Gl...|               Q|              G|  N|         100.0|         N|               N|      null|         AACG|         N|\n",
      "|            Y|  AADR|AdvisorShares Dor...|               P|               |  Y|         100.0|         N|            null|      AADR|         AADR|         N|\n",
      "+-------------+------+--------------------+----------------+---------------+---+--------------+----------+----------------+----------+-------------+----------+\n",
      "only showing top 5 rows\n",
      "\n",
      "root\n",
      " |-- Nasdaq Traded: string (nullable = true)\n",
      " |-- Symbol: string (nullable = true)\n",
      " |-- Security Name: string (nullable = true)\n",
      " |-- Listing Exchange: string (nullable = true)\n",
      " |-- Market Category: string (nullable = true)\n",
      " |-- ETF: string (nullable = true)\n",
      " |-- Round Lot Size: string (nullable = true)\n",
      " |-- Test Issue: string (nullable = true)\n",
      " |-- Financial Status: string (nullable = true)\n",
      " |-- CQS Symbol: string (nullable = true)\n",
      " |-- NASDAQ Symbol: string (nullable = true)\n",
      " |-- NextShares: string (nullable = true)\n",
      "\n"
     ]
    }
   ],
   "source": [
    "#TODO: Write your code here\n",
    "metadata = spark.read.csv('../symbols_valid_meta.csv', header=True)\n",
    "metadata.show(5)\n",
    "metadata.printSchema()"
   ]
  },
  {
   "cell_type": "markdown",
   "metadata": {},
   "source": [
    "## Data Accuracy\n",
    "Data accuracy is the degree to which data correctly describes a \"real world\" object or event.\n",
    "\n",
    "It is important to do checks to determine the basic integrity of the dataset; do the values fall within expected ranges?\n",
    "\n",
    "Most of the possible errors relating to data accuracy can occur at collection time. In our case, it is not possible to test the collection time accuracy, so we have to infer from ranges and summary statistics. Here you need to look closely at each field to see if its values make sense, with no strange surprises.\n",
    "\n",
    "In assessing accuracy, it is important to look into precision as well. Do you need seven decimals, or will one or two suffice?\n",
    "\n",
    "- **Measured by**: The degree to which the data mirrors the characteristics of the real-world object or objects it represents;\n",
    "- **Units**: The percentage of data entries that pass the data accuracy rules;\n",
    "- **Related to**: Validity, Uniqueness, Consistency."
   ]
  },
  {
   "cell_type": "markdown",
   "metadata": {},
   "source": [
    "> ℹ️ **Instructions** ℹ️\n",
    ">\n",
    "> Generate summary statistics to explore your data. Make sure you understand the ranges, means, extremums, and deviations found in the data set."
   ]
  },
  {
   "cell_type": "code",
   "execution_count": 5,
   "metadata": {},
   "outputs": [
    {
     "data": {
      "text/html": [
       "<div>\n",
       "<style scoped>\n",
       "    .dataframe tbody tr th:only-of-type {\n",
       "        vertical-align: middle;\n",
       "    }\n",
       "\n",
       "    .dataframe tbody tr th {\n",
       "        vertical-align: top;\n",
       "    }\n",
       "\n",
       "    .dataframe thead th {\n",
       "        text-align: right;\n",
       "    }\n",
       "</style>\n",
       "<table border=\"1\" class=\"dataframe\">\n",
       "  <thead>\n",
       "    <tr style=\"text-align: right;\">\n",
       "      <th></th>\n",
       "      <th>summary</th>\n",
       "      <th>open</th>\n",
       "      <th>high</th>\n",
       "      <th>low</th>\n",
       "      <th>close</th>\n",
       "      <th>adj_close</th>\n",
       "      <th>Volume</th>\n",
       "      <th>stock</th>\n",
       "    </tr>\n",
       "  </thead>\n",
       "  <tbody>\n",
       "    <tr>\n",
       "      <th>0</th>\n",
       "      <td>count</td>\n",
       "      <td>5106</td>\n",
       "      <td>5106</td>\n",
       "      <td>5064</td>\n",
       "      <td>5106</td>\n",
       "      <td>5085</td>\n",
       "      <td>5085</td>\n",
       "      <td>5106</td>\n",
       "    </tr>\n",
       "    <tr>\n",
       "      <th>1</th>\n",
       "      <td>mean</td>\n",
       "      <td>1.0904873526012002</td>\n",
       "      <td>16.757624946793637</td>\n",
       "      <td>15.728619917198033</td>\n",
       "      <td>16.64199179044607</td>\n",
       "      <td>5.986642513535306</td>\n",
       "      <td>540930.2458210423</td>\n",
       "      <td>None</td>\n",
       "    </tr>\n",
       "    <tr>\n",
       "      <th>2</th>\n",
       "      <td>stddev</td>\n",
       "      <td>2.36445352530491</td>\n",
       "      <td>53.91407348193546</td>\n",
       "      <td>51.32292289814399</td>\n",
       "      <td>53.54677139900802</td>\n",
       "      <td>24.64637054715319</td>\n",
       "      <td>864596.2440525505</td>\n",
       "      <td>None</td>\n",
       "    </tr>\n",
       "    <tr>\n",
       "      <th>3</th>\n",
       "      <td>min</td>\n",
       "      <td>0.0</td>\n",
       "      <td>0.0</td>\n",
       "      <td>0.052377883</td>\n",
       "      <td>0.053624976</td>\n",
       "      <td>4.0381454E-7</td>\n",
       "      <td>0.0</td>\n",
       "      <td>AA</td>\n",
       "    </tr>\n",
       "    <tr>\n",
       "      <th>4</th>\n",
       "      <td>25%</td>\n",
       "      <td>0.0</td>\n",
       "      <td>0.2454427</td>\n",
       "      <td>0.24348958</td>\n",
       "      <td>0.24739583</td>\n",
       "      <td>0.006592116</td>\n",
       "      <td>38400.0</td>\n",
       "      <td>None</td>\n",
       "    </tr>\n",
       "    <tr>\n",
       "      <th>5</th>\n",
       "      <td>50%</td>\n",
       "      <td>0.0</td>\n",
       "      <td>1.8046875</td>\n",
       "      <td>1.7851562</td>\n",
       "      <td>1.8007812</td>\n",
       "      <td>0.12449309</td>\n",
       "      <td>177600.0</td>\n",
       "      <td>None</td>\n",
       "    </tr>\n",
       "    <tr>\n",
       "      <th>6</th>\n",
       "      <td>75%</td>\n",
       "      <td>0.69547325</td>\n",
       "      <td>6.903353</td>\n",
       "      <td>6.7916665</td>\n",
       "      <td>6.8333335</td>\n",
       "      <td>0.7141595</td>\n",
       "      <td>734400.0</td>\n",
       "      <td>None</td>\n",
       "    </tr>\n",
       "    <tr>\n",
       "      <th>7</th>\n",
       "      <td>max</td>\n",
       "      <td>20.0</td>\n",
       "      <td>287.5</td>\n",
       "      <td>282.5</td>\n",
       "      <td>285.0</td>\n",
       "      <td>127.45936</td>\n",
       "      <td>1.95456E7</td>\n",
       "      <td>XOM</td>\n",
       "    </tr>\n",
       "  </tbody>\n",
       "</table>\n",
       "</div>"
      ],
      "text/plain": [
       "  summary                open                high                 low  \\\n",
       "0   count                5106                5106                5064   \n",
       "1    mean  1.0904873526012002  16.757624946793637  15.728619917198033   \n",
       "2  stddev    2.36445352530491   53.91407348193546   51.32292289814399   \n",
       "3     min                 0.0                 0.0         0.052377883   \n",
       "4     25%                 0.0           0.2454427          0.24348958   \n",
       "5     50%                 0.0           1.8046875           1.7851562   \n",
       "6     75%          0.69547325            6.903353           6.7916665   \n",
       "7     max                20.0               287.5               282.5   \n",
       "\n",
       "               close          adj_close             Volume stock  \n",
       "0               5106               5085               5085  5106  \n",
       "1  16.64199179044607  5.986642513535306  540930.2458210423  None  \n",
       "2  53.54677139900802  24.64637054715319  864596.2440525505  None  \n",
       "3        0.053624976       4.0381454E-7                0.0    AA  \n",
       "4         0.24739583        0.006592116            38400.0  None  \n",
       "5          1.8007812         0.12449309           177600.0  None  \n",
       "6          6.8333335          0.7141595           734400.0  None  \n",
       "7              285.0          127.45936          1.95456E7   XOM  "
      ]
     },
     "execution_count": 5,
     "metadata": {},
     "output_type": "execute_result"
    }
   ],
   "source": [
    "#TODO: Write your code here\n",
    "stocks.summary().toPandas()"
   ]
  },
  {
   "cell_type": "markdown",
   "metadata": {},
   "source": [
    "> ℹ️ **Instructions** ℹ️\n",
    ">\n",
    "> Generate histograms for the six numerical attributes found in the data to understand the distribution of values.\n",
    ">\n",
    ">*You may use as many coding cells as necessary.*"
   ]
  },
  {
   "cell_type": "code",
   "execution_count": 6,
   "metadata": {},
   "outputs": [
    {
     "name": "stderr",
     "output_type": "stream",
     "text": [
      "/tmp/ipykernel_6550/3492176784.py:4: UserWarning: To output multiple subplots, the figure containing the passed axes is being cleared.\n",
      "  stocks.toPandas().hist(ax=ax)\n"
     ]
    },
    {
     "data": {
      "text/plain": [
       "array([[<AxesSubplot:title={'center':'open'}>,\n",
       "        <AxesSubplot:title={'center':'high'}>],\n",
       "       [<AxesSubplot:title={'center':'low'}>,\n",
       "        <AxesSubplot:title={'center':'close'}>],\n",
       "       [<AxesSubplot:title={'center':'adj_close'}>,\n",
       "        <AxesSubplot:title={'center':'Volume'}>]], dtype=object)"
      ]
     },
     "execution_count": 6,
     "metadata": {},
     "output_type": "execute_result"
    },
    {
     "data": {
      "image/png": "[encoded data removed]",
      "text/plain": [
       "<Figure size 1080x1440 with 6 Axes>"
      ]
     },
     "metadata": {
      "needs_background": "light"
     },
     "output_type": "display_data"
    }
   ],
   "source": [
    "#TODO: Write your code here\n",
    "fig = plt.figure(figsize = (15,20))\n",
    "ax = fig.gca()\n",
    "stocks.toPandas().hist(ax=ax)"
   ]
  },
  {
   "cell_type": "markdown",
   "metadata": {},
   "source": [
    "> ℹ️ **Instructions** ℹ️\n",
    ">\n",
    "> Investigate the **open** column to identify stocks that have open values greater than 2, and note any anomalies that you find in the data.\n",
    ">\n",
    ">*You may use as many coding cells as necessary.*"
   ]
  },
  {
   "cell_type": "code",
   "execution_count": 7,
   "metadata": {},
   "outputs": [
    {
     "name": "stdout",
     "output_type": "stream",
     "text": [
      "+-----+------------+\n",
      "|stock|count(stock)|\n",
      "+-----+------------+\n",
      "|   AA|         252|\n",
      "|ARNCA|          21|\n",
      "|   PG|          23|\n",
      "|  IBM|         252|\n",
      "| ARNC|         231|\n",
      "+-----+------------+\n",
      "\n"
     ]
    }
   ],
   "source": [
    "#TODO: Write your code here\n",
    "stocks.createOrReplaceTempView('tbl')\n",
    "\n",
    "spark.sql(\"\"\"SELECT stock,COUNT(stock)\n",
    "             FROM tbl\n",
    "             WHERE open >2 \n",
    "             GROUP BY stock\n",
    "             \"\"\").show()"
   ]
  },
  {
   "cell_type": "markdown",
   "metadata": {},
   "source": [
    " ## 📔️**Notes** 📔️\n",
    "\n",
    " *Use this cell to note down any potential findings.*\n",
    "\n",
    " 1. The mean high value is 16.76,low is 15.73, close is 16.64 and adjusted close is 5.99  \n",
    " 2. The min value starts for all are close to 0 and max value is hovers around ~ 285.\n",
    " 3. There is not so much of deviation for high, low and close columns\n",
    " 4. DTE and NAV has stocks which has higher then mean high\n",
    " 5. AA ,XOM ,DIS, ARNCA, PG are some of the stock which low is less than mean low.\n",
    " 6. None of the columns are in normal distribution\n",
    "    ...\n",
    " "
   ]
  },
  {
   "cell_type": "markdown",
   "metadata": {},
   "source": [
    "> ℹ️ **Instructions** ℹ️\n",
    ">\n",
    "> Investigate **high**, **low**, **close**, and **adj_close** to determine if any stocks may be deviating from the normal ranges of the data set. Note down the stock(s) that you come across.\n",
    ">\n",
    ">*You may use as many coding cells as necessary.*"
   ]
  },
  {
   "cell_type": "code",
   "execution_count": 8,
   "metadata": {},
   "outputs": [
    {
     "data": {
      "text/html": [
       "<div>\n",
       "<style scoped>\n",
       "    .dataframe tbody tr th:only-of-type {\n",
       "        vertical-align: middle;\n",
       "    }\n",
       "\n",
       "    .dataframe tbody tr th {\n",
       "        vertical-align: top;\n",
       "    }\n",
       "\n",
       "    .dataframe thead th {\n",
       "        text-align: right;\n",
       "    }\n",
       "</style>\n",
       "<table border=\"1\" class=\"dataframe\">\n",
       "  <thead>\n",
       "    <tr style=\"text-align: right;\">\n",
       "      <th></th>\n",
       "      <th>summary</th>\n",
       "      <th>high</th>\n",
       "      <th>low</th>\n",
       "      <th>close</th>\n",
       "      <th>adj_close</th>\n",
       "    </tr>\n",
       "  </thead>\n",
       "  <tbody>\n",
       "    <tr>\n",
       "      <th>0</th>\n",
       "      <td>count</td>\n",
       "      <td>5106</td>\n",
       "      <td>5064</td>\n",
       "      <td>5106</td>\n",
       "      <td>5085</td>\n",
       "    </tr>\n",
       "    <tr>\n",
       "      <th>1</th>\n",
       "      <td>mean</td>\n",
       "      <td>16.757624946793637</td>\n",
       "      <td>15.728619917198033</td>\n",
       "      <td>16.64199179044607</td>\n",
       "      <td>5.986642513535306</td>\n",
       "    </tr>\n",
       "    <tr>\n",
       "      <th>2</th>\n",
       "      <td>stddev</td>\n",
       "      <td>53.91407348193546</td>\n",
       "      <td>51.32292289814399</td>\n",
       "      <td>53.54677139900802</td>\n",
       "      <td>24.64637054715319</td>\n",
       "    </tr>\n",
       "    <tr>\n",
       "      <th>3</th>\n",
       "      <td>min</td>\n",
       "      <td>0.0</td>\n",
       "      <td>0.052377883</td>\n",
       "      <td>0.053624976</td>\n",
       "      <td>4.0381454E-7</td>\n",
       "    </tr>\n",
       "    <tr>\n",
       "      <th>4</th>\n",
       "      <td>max</td>\n",
       "      <td>287.5</td>\n",
       "      <td>282.5</td>\n",
       "      <td>285.0</td>\n",
       "      <td>127.45936</td>\n",
       "    </tr>\n",
       "  </tbody>\n",
       "</table>\n",
       "</div>"
      ],
      "text/plain": [
       "  summary                high                 low              close  \\\n",
       "0   count                5106                5064               5106   \n",
       "1    mean  16.757624946793637  15.728619917198033  16.64199179044607   \n",
       "2  stddev   53.91407348193546   51.32292289814399  53.54677139900802   \n",
       "3     min                 0.0         0.052377883        0.053624976   \n",
       "4     max               287.5               282.5              285.0   \n",
       "\n",
       "           adj_close  \n",
       "0               5085  \n",
       "1  5.986642513535306  \n",
       "2  24.64637054715319  \n",
       "3       4.0381454E-7  \n",
       "4          127.45936  "
      ]
     },
     "execution_count": 8,
     "metadata": {},
     "output_type": "execute_result"
    }
   ],
   "source": [
    "#TODO: Write your code here\n",
    "stocks.describe(['high','low','close','adj_close']).toPandas()"
   ]
  },
  {
   "cell_type": "code",
   "execution_count": 9,
   "metadata": {},
   "outputs": [
    {
     "name": "stdout",
     "output_type": "stream",
     "text": [
      "+------------+-----+\n",
      "|count(stock)|stock|\n",
      "+------------+-----+\n",
      "|         252|  DTE|\n",
      "|         252|  NAV|\n",
      "+------------+-----+\n",
      "\n"
     ]
    }
   ],
   "source": [
    "stocks.createOrReplaceTempView('tbl')\n",
    "spark.sql(\"\"\"SELECT count(stock),stock\n",
    "            FROM tbl\n",
    "            WHERE high > 16.757624946793637\n",
    "            group by stock\n",
    "            \"\"\").show(5)"
   ]
  },
  {
   "cell_type": "code",
   "execution_count": 10,
   "metadata": {},
   "outputs": [
    {
     "name": "stdout",
     "output_type": "stream",
     "text": [
      "+------------+-----+\n",
      "|count(stock)|stock|\n",
      "+------------+-----+\n",
      "|         252|   AA|\n",
      "|         252|  XOM|\n",
      "|         252|  DIS|\n",
      "|          21|ARNCA|\n",
      "|         252|   PG|\n",
      "+------------+-----+\n",
      "only showing top 5 rows\n",
      "\n"
     ]
    }
   ],
   "source": [
    "spark.sql(\"\"\"SELECT count(stock),stock\n",
    "            FROM tbl\n",
    "            WHERE low < 15.728619917198033\n",
    "            group by stock\n",
    "            \"\"\").show(5)"
   ]
  },
  {
   "cell_type": "code",
   "execution_count": 11,
   "metadata": {},
   "outputs": [
    {
     "name": "stdout",
     "output_type": "stream",
     "text": [
      "+-----+---------+\n",
      "|stock|max(high)|\n",
      "+-----+---------+\n",
      "|  NAV|    287.5|\n",
      "|  DTE|   31.875|\n",
      "|   GT|  11.4375|\n",
      "|   ED|10.484375|\n",
      "|   IP| 9.215348|\n",
      "+-----+---------+\n",
      "only showing top 5 rows\n",
      "\n"
     ]
    }
   ],
   "source": [
    "stocks.groupBy('stock').agg(F.max('high')).orderBy(F.col('max(high)').desc()).show(5)"
   ]
  },
  {
   "cell_type": "code",
   "execution_count": 12,
   "metadata": {},
   "outputs": [
    {
     "name": "stdout",
     "output_type": "stream",
     "text": [
      "+-----+---------+\n",
      "|stock| max(low)|\n",
      "+-----+---------+\n",
      "|  NAV|    282.5|\n",
      "|  DTE|     31.5|\n",
      "|  CVX|     20.0|\n",
      "|   GT|     11.0|\n",
      "|   ED|10.421875|\n",
      "+-----+---------+\n",
      "only showing top 5 rows\n",
      "\n"
     ]
    }
   ],
   "source": [
    "stocks.groupBy('stock').agg(F.max('low')).orderBy(F.col('max(low)').desc()).show(5)"
   ]
  },
  {
   "cell_type": "code",
   "execution_count": 13,
   "metadata": {},
   "outputs": [
    {
     "name": "stdout",
     "output_type": "stream",
     "text": [
      "+-----+----------+\n",
      "|stock|max(close)|\n",
      "+-----+----------+\n",
      "|  NAV|     285.0|\n",
      "|  DTE|   31.8125|\n",
      "|   GT|    11.125|\n",
      "|   ED|  10.46875|\n",
      "|   IP|  9.185134|\n",
      "+-----+----------+\n",
      "only showing top 5 rows\n",
      "\n"
     ]
    }
   ],
   "source": [
    "stocks.groupBy('stock').agg(F.max('close')).orderBy(F.col('max(close)').desc()).show(5)"
   ]
  },
  {
   "cell_type": "code",
   "execution_count": 14,
   "metadata": {},
   "outputs": [
    {
     "name": "stdout",
     "output_type": "stream",
     "text": [
      "+-----+--------------+\n",
      "|stock|max(adj_close)|\n",
      "+-----+--------------+\n",
      "|  NAV|     127.45936|\n",
      "|   GT|     1.9360236|\n",
      "|   AA|     1.5993919|\n",
      "| ARNC|       1.47619|\n",
      "|ARNCA|     1.2736224|\n",
      "+-----+--------------+\n",
      "only showing top 5 rows\n",
      "\n"
     ]
    }
   ],
   "source": [
    "stocks.groupBy('stock').agg(F.max('adj_close')).orderBy(F.col('max(adj_close)').desc()).show(5)"
   ]
  },
  {
   "cell_type": "code",
   "execution_count": null,
   "metadata": {},
   "outputs": [],
   "source": []
  },
  {
   "cell_type": "markdown",
   "metadata": {},
   "source": [
    " ## 📔️**Notes** 📔️\n",
    "\n",
    " *Use this cell to note down any potential findings.*\n",
    "\n",
    " 1. There are some null values on low,adj_close and Volumne\n",
    " 2. We are fixing the missing values by imputing the average value for that column\n",
    " 3. There also seems to be zero values and we are imputing the values by taking an average\n",
    "    ..."
   ]
  },
  {
   "cell_type": "markdown",
   "metadata": {},
   "source": [
    "\n",
    "\n",
    "## Completeness\n",
    "\n",
    "Completeness is the proportion of stored data against the potential of “100% complete\". This is the degree to which the required data is in the dataset. \n",
    "\n",
    "Does the dataset have missing values, or if it is time-series data, does it have time period gaps? Has a bias been introduced that may change your assumptions or affect your results?\n",
    "\n",
    "Completeness issues can occur at the row level (gaps within the dataset) or the field level (one entry missing). At the field level, entire fields can being empty, or >80% of a field's data missing. \n",
    "\n",
    "Another issue that may occur is default values. A typical example of this is where a logger sends back a 0 instead of a null value, which can greatly skew any attempts at modelling. This is where it is instrumental to employ domain knowledge when assessing a dataset. \n",
    "\n",
    "- **Measured by**: A measure of the absence of blank (null) values or the presence of non-blank values;\n",
    "- **Units**: Percentage;\n",
    "- **Related to**: Validity and Accuracy."
   ]
  },
  {
   "cell_type": "markdown",
   "metadata": {},
   "source": [
    "### Missing values\n",
    "\n",
    "> ℹ️ **Instructions** ℹ️\n",
    ">\n",
    "> Write code to identify and count the number of missing values (nulls) in the dataset. Include a percentage to describe the proportion of missing values per column. Output the results in the following manner:\n",
    ">\n",
    "> `There are <number_of_missing_values> (<percentage>) null values in <column_name> column`\n",
    ">\n",
    ">*You may use as many coding cells as necessary.*"
   ]
  },
  {
   "cell_type": "code",
   "execution_count": 15,
   "metadata": {},
   "outputs": [
    {
     "name": "stdout",
     "output_type": "stream",
     "text": [
      "There are 0 (0.0%) null values in date column\n",
      "There are 0 (0.0%) null values in open column\n",
      "There are 0 (0.0%) null values in high column\n",
      "There are 42 (0.82%) null values in low column\n",
      "There are 0 (0.0%) null values in close column\n",
      "There are 21 (0.41%) null values in adj_close column\n",
      "There are 21 (0.41%) null values in Volume column\n",
      "There are 0 (0.0%) null values in stock column\n"
     ]
    }
   ],
   "source": [
    "#TODO: Write your code here\n",
    "for column in stocks.columns:  \n",
    "    count = stocks.where(stocks[column].isNull()).count() \n",
    "    total_count = stocks.select(stocks[column]).count() \n",
    "    print(f'There are {count} ({round(count/total_count*100, 2)}%) null values in {column} column')\n"
   ]
  },
  {
   "cell_type": "markdown",
   "metadata": {},
   "source": [
    "### Columns with missing values"
   ]
  },
  {
   "cell_type": "markdown",
   "metadata": {},
   "source": [
    "\n",
    "> ℹ️ **Instructions** ℹ️\n",
    ">\n",
    "> From the above result, probe the columns that are affected by the missing data to find out which stocks were affected.\n",
    ">\n",
    ">*You may use as many coding cells as necessary.*"
   ]
  },
  {
   "cell_type": "code",
   "execution_count": 16,
   "metadata": {},
   "outputs": [
    {
     "name": "stdout",
     "output_type": "stream",
     "text": [
      "Missing values in Column: open\n",
      "+-----+-----+\n",
      "|stock|count|\n",
      "+-----+-----+\n",
      "+-----+-----+\n",
      "\n",
      "Missing values in Column: high\n",
      "+-----+-----+\n",
      "|stock|count|\n",
      "+-----+-----+\n",
      "+-----+-----+\n",
      "\n",
      "Missing values in Column: low\n",
      "+-----+-----+\n",
      "|stock|count|\n",
      "+-----+-----+\n",
      "|  CAT|   22|\n",
      "|  NAV|   20|\n",
      "+-----+-----+\n",
      "\n",
      "Missing values in Column: close\n",
      "+-----+-----+\n",
      "|stock|count|\n",
      "+-----+-----+\n",
      "+-----+-----+\n",
      "\n",
      "Missing values in Column: adj_close\n",
      "+-----+-----+\n",
      "|stock|count|\n",
      "+-----+-----+\n",
      "|   FL|   21|\n",
      "+-----+-----+\n",
      "\n",
      "Missing values in Column: volume\n",
      "+-----+-----+\n",
      "|stock|count|\n",
      "+-----+-----+\n",
      "|  JNJ|   21|\n",
      "+-----+-----+\n",
      "\n"
     ]
    }
   ],
   "source": [
    "#TODO: Write your code here\n",
    "for column in ['open', 'high', 'low', 'close', 'adj_close','volume']:\n",
    "    print(f'Missing values in Column: {column}')\n",
    "    stocks.select('stock', column).filter(stocks[column].isNull()).groupBy('stock').count().show()\n",
    "\n"
   ]
  },
  {
   "cell_type": "markdown",
   "metadata": {},
   "source": [
    "#### Fix Completeness\n",
    "\n",
    "How do we deal with incomplete data?\n",
    "- Dropping missing values\n",
    "- Discard the incomplete column\n",
    "- Discard the rows containing missing data\n",
    "- Case deletion\n",
    "\n",
    "> ℹ️ **Instructions** ℹ️\n",
    ">\n",
    "> Use the appropriate strategy to remedy the missing data. \n",
    ">\n",
    ">*You may use as many coding cells as necessary.*"
   ]
  },
  {
   "cell_type": "code",
   "execution_count": 17,
   "metadata": {},
   "outputs": [],
   "source": [
    "#TODO: Write your code here\n",
    "stocks = stocks.na.drop()"
   ]
  },
  {
   "cell_type": "markdown",
   "metadata": {},
   "source": [
    "### Zero Values\n",
    "\n",
    "Take a deeper look into the entries with many zero values."
   ]
  },
  {
   "cell_type": "markdown",
   "metadata": {},
   "source": [
    "#### Fix Completeness\n",
    "\n",
    "Completeness issues can be fixed through imputation of the missing data through:\n",
    "- imputation by mean/mode/median;\n",
    "- regression; or\n",
    "- KNN.\n",
    " \n",
    "> ℹ️ **Instructions** ℹ️\n",
    ">\n",
    "> Write code to identify and count the number of zeros (0) in the dataset. Include a percentage to describe the proportion of missing values per column. Output the results in the following manner:\n",
    ">\n",
    "> `There are <number_of_zeros> (<percentage>) zero values in <column_name> column`\n",
    ">\n",
    ">*You may use as many coding cells as necessary.*"
   ]
  },
  {
   "cell_type": "code",
   "execution_count": 18,
   "metadata": {},
   "outputs": [
    {
     "name": "stdout",
     "output_type": "stream",
     "text": [
      "There are 2706 (53.88292%) zero values in open column\n",
      "There are 20 (0.39825%) zero values in high column\n",
      "There are 0 (0.0%) zero values in low column\n",
      "There are 0 (0.0%) zero values in close column\n",
      "There are 0 (0.0%) zero values in adj_close column\n",
      "There are 27 (0.53763%) zero values in volume column\n"
     ]
    }
   ],
   "source": [
    "\n",
    "for column in ['open','high','low','close','adj_close','volume']:  \n",
    "    count = stocks.filter(stocks[column] == 0).count()\n",
    "    total_count = stocks.select(stocks[column]).count() \n",
    "    print(f'There are {count} ({round(count/total_count*100, 5)}%) zero values in {column} column')\n"
   ]
  },
  {
   "cell_type": "markdown",
   "metadata": {},
   "source": [
    "From the above section, you find that there are a few columns that contain zero values. However, some of these are true zeros and are explainable. Your task is to distinguish which column should undergo data imputation.\n",
    "\n",
    "> ℹ️ **Instructions** ℹ️\n",
    ">\n",
    "> Investigate the columns with zero values and determine which one should undergo data imputation. Take note of the stock and month on which zero values occurred.\n",
    ">\n",
    ">*You may use as many coding cells as necessary.*"
   ]
  },
  {
   "cell_type": "code",
   "execution_count": 19,
   "metadata": {},
   "outputs": [
    {
     "name": "stdout",
     "output_type": "stream",
     "text": [
      "For Open\n",
      "+----------+----+----------+----------+----------+------------+---------+-----+\n",
      "|      date|open|      high|       low|     close|   adj_close|   Volume|stock|\n",
      "+----------+----+----------+----------+----------+------------+---------+-----+\n",
      "|1962-02-19| 0.0|  3.578869|      20.0|  3.549107| 0.056501225| 273600.0|  CVX|\n",
      "|1962-02-19| 0.0|   29.9375|     29.75|   29.9375|  0.49964145|   1600.0|  DTE|\n",
      "|1962-02-19| 0.0|  9.921875|  9.890625|  9.921875|  0.22499175|   8800.0|   ED|\n",
      "|1962-02-19| 0.0| 7.0833335| 7.0208335| 7.0208335|  0.91296524|  20400.0|   FL|\n",
      "|1962-02-19| 0.0|   10.9375|     10.75|   10.9375|   1.9131781|  22800.0|   GT|\n",
      "|1962-02-19| 0.0|  9.003848|  8.822562|  8.882991|   0.7784165|  39300.0|   IP|\n",
      "|1962-02-19| 0.0|0.23206018|0.23206018|0.23206018| 6.541049E-7|  43200.0|  JNJ|\n",
      "|1962-02-19| 0.0|0.17881945|0.17621528|0.17708333|2.1674694E-4| 460800.0|   MO|\n",
      "|1962-02-19| 0.0|     280.0|   276.875|   279.375|   124.94374|    600.0|  NAV|\n",
      "|1962-02-19| 0.0| 1.2734375|  1.265625|  1.265625| 0.012011507| 281600.0|   PG|\n",
      "|1962-02-19| 0.0| 1.7460938| 1.7109375| 1.7382812| 0.015494763|1657600.0|  XOM|\n",
      "|1962-02-14| 0.0| 3.4970238|      20.0| 3.4970238| 0.055672023| 116800.0|  CVX|\n",
      "|1962-02-14| 0.0|   30.1875|   29.6875|    29.875|   0.4985984|   2000.0|  DTE|\n",
      "|1962-02-14| 0.0|   9.90625|  9.796875|   9.90625|  0.22463761|  41600.0|   ED|\n",
      "|1962-02-14| 0.0| 7.0833335| 7.0520835| 7.0520835|  0.91702884|  18000.0|   FL|\n",
      "|1962-02-14| 0.0|  10.78125|  10.59375|  10.78125|   1.8858457|  20800.0|   GT|\n",
      "|1962-02-14| 0.0|  8.762134|  8.641277|  8.701706|   0.7625307|  30000.0|   IP|\n",
      "|1962-02-14| 0.0|0.24074075| 0.2337963| 0.2349537| 6.622604E-7|1080000.0|  JNJ|\n",
      "|1962-02-14| 0.0|0.17708333|0.17621528|0.17621528|2.1568447E-4| 172800.0|   MO|\n",
      "|1962-02-14| 0.0|   276.875|   273.125|    273.75|   122.42809|    800.0|  NAV|\n",
      "+----------+----+----------+----------+----------+------------+---------+-----+\n",
      "only showing top 20 rows\n",
      "\n",
      "For High\n",
      "+----------+---------+----+---------+---------+----------+--------+-----+\n",
      "|      date|     open|high|      low|    close| adj_close|  Volume|stock|\n",
      "+----------+---------+----+---------+---------+----------+--------+-----+\n",
      "|1962-11-05|1.4114584| 0.0|1.4114584|   1.4375|0.12620474|172800.0|  CAT|\n",
      "|1962-11-12| 1.453125| 0.0|1.4427084|1.4583334|0.12803373| 96000.0|  CAT|\n",
      "|1962-11-08|1.4583334| 0.0|1.4427084|1.4583334|0.12803373|129600.0|  CAT|\n",
      "|1962-11-01|1.3697916| 0.0|1.3697916|1.4010416| 0.1230039|136800.0|  CAT|\n",
      "|1962-11-29|1.5052084| 0.0|1.5052084|1.5052084|0.13214913|132000.0|  CAT|\n",
      "|1962-11-28|      1.5| 0.0|1.4947916|1.5052084|0.13214913|177600.0|  CAT|\n",
      "|1962-11-30|1.5052084| 0.0|1.5052084|1.5052084|0.13214913|124800.0|  CAT|\n",
      "|1962-11-26|      1.5| 0.0|1.4947916|      1.5|0.13169187|187200.0|  CAT|\n",
      "|1962-11-02|1.4010416| 0.0|1.3958334|1.4114584|0.12391846|211200.0|  CAT|\n",
      "|1962-11-21|      1.5| 0.0|1.4947916|      1.5|0.13169187|105600.0|  CAT|\n",
      "|1962-11-15|1.5052084| 0.0|1.4947916|      1.5|0.13169187|187200.0|  CAT|\n",
      "|1962-11-16|      1.5| 0.0|1.4947916|      1.5|0.13169187|127200.0|  CAT|\n",
      "|1962-11-20|      1.5| 0.0|1.4947916|      1.5|0.13169187|112800.0|  CAT|\n",
      "|1962-11-09| 1.453125| 0.0|   1.4375| 1.453125|0.12757647|120000.0|  CAT|\n",
      "|1962-11-19|      1.5| 0.0|1.4895834|      1.5|0.13169187|112800.0|  CAT|\n",
      "|1962-11-23|      1.5| 0.0|1.4947916|      1.5|0.13169187|228000.0|  CAT|\n",
      "|1962-11-27|      1.5| 0.0| 1.484375|      1.5|0.13169187|165600.0|  CAT|\n",
      "|1962-11-14| 1.484375| 0.0|1.4791666|1.5052084|0.13214913|261600.0|  CAT|\n",
      "|1962-11-13|1.4583334| 0.0| 1.453125| 1.484375| 0.1303201|216000.0|  CAT|\n",
      "|1962-11-07|   1.4375| 0.0|   1.4375|1.4583334|0.12803373|182400.0|  CAT|\n",
      "+----------+---------+----+---------+---------+----------+--------+-----+\n",
      "\n",
      "For Volume\n",
      "+----------+----+----------+----------+----------+------------+------+-----+\n",
      "|      date|open|      high|       low|     close|   adj_close|Volume|stock|\n",
      "+----------+----+----------+----------+----------+------------+------+-----+\n",
      "|1962-05-18| 0.0| 1.6679688| 1.6484375| 1.6679688| 0.015032374|   0.0|  XOM|\n",
      "|1962-05-24| 0.0| 1.6328125| 1.6171875| 1.6289062|  0.01468032|   0.0|  XOM|\n",
      "|1962-09-28| 0.0|0.15914352| 0.1574074|0.15914352| 4.514184E-7|   0.0|  JNJ|\n",
      "|1962-05-08| 0.0| 1.7265625| 1.7109375| 1.7148438| 0.015285846|   0.0|  XOM|\n",
      "|1962-01-02| 0.0|0.22337963|0.22222222|0.22337963| 6.281419E-7|   0.0|  JNJ|\n",
      "|1962-05-14| 0.0|  1.640625| 1.5820312| 1.6328125| 0.014715531|   0.0|  XOM|\n",
      "|1962-05-28| 0.0|    1.5625| 1.4179688|    1.4375| 0.012955305|   0.0|  XOM|\n",
      "|1962-05-25| 0.0| 1.6328125|  1.578125|   1.59375|  0.01436349|   0.0|  XOM|\n",
      "|1962-05-29| 0.0|   1.59375| 1.4179688| 1.5898438| 0.014328282|   0.0|  XOM|\n",
      "|1962-05-02| 0.0| 1.7148438| 1.6992188| 1.7148438| 0.015285846|   0.0|  XOM|\n",
      "|1962-05-31| 0.0| 1.6328125|  1.609375|     1.625| 0.014645126|   0.0|  XOM|\n",
      "|1962-05-16| 0.0| 1.6953125|  1.671875| 1.6796875|0.0151379965|   0.0|  XOM|\n",
      "|1962-05-07| 0.0| 1.7148438| 1.7070312| 1.7148438| 0.015285846|   0.0|  XOM|\n",
      "|1962-05-10| 0.0|    1.6875| 1.6640625| 1.6679688| 0.015032374|   0.0|  XOM|\n",
      "|1962-05-15| 0.0| 1.6914062| 1.6445312| 1.6796875|0.0151379965|   0.0|  XOM|\n",
      "|1962-05-01| 0.0| 1.6992188| 1.6601562| 1.6992188| 0.015146574|   0.0|  XOM|\n",
      "|1962-05-11| 0.0|  1.671875| 1.6445312| 1.6445312| 0.014821144|   0.0|  XOM|\n",
      "|1962-05-17| 0.0| 1.6796875| 1.6484375| 1.6640625|  0.01499716|   0.0|  XOM|\n",
      "|1962-05-21| 0.0|   1.65625| 1.6445312|   1.65625| 0.014926753|   0.0|  XOM|\n",
      "|1962-05-23| 0.0| 1.6367188| 1.6171875| 1.6210938| 0.014609924|   0.0|  XOM|\n",
      "+----------+----+----------+----------+----------+------------+------+-----+\n",
      "only showing top 20 rows\n",
      "\n"
     ]
    }
   ],
   "source": [
    "#TODO: Write your code here\n",
    "print('For Open')\n",
    "stocks.filter('open==0').show()\n",
    "print('For High')\n",
    "stocks.filter('high==0').show()\n",
    "print('For Volume')\n",
    "stocks.filter('volume==0').show()"
   ]
  },
  {
   "cell_type": "markdown",
   "metadata": {},
   "source": [
    "> ℹ️ **Instructions** ℹ️\n",
    ">\n",
    "> Once you have identified the column that needs to undergo imputation, update the values for the affected records by using the average value for the affected stock.\n",
    ">\n",
    ">*You may use as many coding cells as necessary.*"
   ]
  },
  {
   "cell_type": "code",
   "execution_count": 20,
   "metadata": {},
   "outputs": [],
   "source": [
    "#TODO: Write your code here\n",
    "# imputing the values with the average values in the recod\n",
    "stocks=stocks.withColumn('open', F.when(F.col('open')==0, stocks.agg(F.avg('open')).collect()[0][0]).otherwise(F.col('open')))"
   ]
  },
  {
   "cell_type": "code",
   "execution_count": 21,
   "metadata": {},
   "outputs": [],
   "source": [
    "stocks=stocks.withColumn('high', F.when(F.col('high')==0, stocks.agg(F.avg('high')).collect()[0][0]).otherwise(F.col('high')))"
   ]
  },
  {
   "cell_type": "code",
   "execution_count": 22,
   "metadata": {},
   "outputs": [],
   "source": [
    "stocks=stocks.withColumn('Volume', F.when(F.col('Volume')==0, stocks.agg(F.avg('Volume')).collect()[0][0]).otherwise(F.col('Volume')))"
   ]
  },
  {
   "cell_type": "code",
   "execution_count": 23,
   "metadata": {},
   "outputs": [
    {
     "name": "stdout",
     "output_type": "stream",
     "text": [
      "There are 0 (0.0%) zero values in open column\n",
      "There are 0 (0.0%) zero values in high column\n",
      "There are 0 (0.0%) zero values in low column\n",
      "There are 0 (0.0%) zero values in close column\n",
      "There are 0 (0.0%) zero values in adj_close column\n",
      "There are 0 (0.0%) zero values in volume column\n"
     ]
    }
   ],
   "source": [
    "# checking if there are any 0 values left\n",
    "for column in ['open','high','low','close','adj_close','volume']:  \n",
    "    count = stocks.filter(stocks[column] == 0).count()\n",
    "    total_count = stocks.select(stocks[column]).count() \n",
    "    print(f'There are {count} ({round(count/total_count*100, 2)}%) zero values in {column} column')"
   ]
  },
  {
   "cell_type": "code",
   "execution_count": null,
   "metadata": {},
   "outputs": [],
   "source": []
  },
  {
   "cell_type": "markdown",
   "metadata": {},
   "source": [
    "\n",
    "## Consistency\n",
    "\n",
    "Consistency is the absence of difference when comparing two or more representations of a thing against a reference.\n",
    "\n",
    "Data entries that refer to the same record or entity have to be consistent across all entries, e.g., if you are dealing with records from a logger in the field, the entries for that logger have to remain consistent, and the name or primary key of that logger cannot change from one entry to another. \n",
    "\n",
    "For example, 'Logger1', 'Loger1' and 'Logge1' are examples of inconsistent keys. \n",
    "\n",
    "This is not just within a single table but also becomes more important if you are dealing with relational data. In which case, the mappings between tables and systems must be consistent. If not, the relationships will be completely lost between the tables and referential integrity compromised. \n",
    "\n",
    "- **Measured by**: Analysis of pattern and/or value frequency;\n",
    "- **Units**: Percentage;\n",
    "- **Related to**: Accuracy, Validity, and Uniqueness."
   ]
  },
  {
   "cell_type": "markdown",
   "metadata": {},
   "source": [
    "> ℹ️ **Instructions** ℹ️\n",
    ">\n",
    "> There currently exists a stock that has inconsistent naming. Make use of the metadata to determine which stock is inconsistently named, then update the dataframe appropriately to get rid of this inconsistency.\n",
    ">\n",
    ">*You may use as many coding cells as necessary.*"
   ]
  },
  {
   "cell_type": "code",
   "execution_count": 24,
   "metadata": {},
   "outputs": [
    {
     "name": "stdout",
     "output_type": "stream",
     "text": [
      "ARNCA stock not in metadata\n"
     ]
    }
   ],
   "source": [
    "#TODO: Write your code here\n",
    "stock_list = list(set(stocks.select('stock').rdd.flatMap(lambda x: x).collect()))\n",
    "\n",
    "meta_data_list= list(set(metadata.select('symbol').rdd.flatMap(lambda x: x).collect()))\n",
    "\n",
    "for stock in stock_list:\n",
    "    if stock not in meta_data_list:\n",
    "        print(stock,'stock not in metadata')\n",
    "\n",
    "# Stock ARNCA is missing "
   ]
  },
  {
   "cell_type": "code",
   "execution_count": 25,
   "metadata": {},
   "outputs": [
    {
     "data": {
      "text/html": [
       "<div>\n",
       "<style scoped>\n",
       "    .dataframe tbody tr th:only-of-type {\n",
       "        vertical-align: middle;\n",
       "    }\n",
       "\n",
       "    .dataframe tbody tr th {\n",
       "        vertical-align: top;\n",
       "    }\n",
       "\n",
       "    .dataframe thead th {\n",
       "        text-align: right;\n",
       "    }\n",
       "</style>\n",
       "<table border=\"1\" class=\"dataframe\">\n",
       "  <thead>\n",
       "    <tr style=\"text-align: right;\">\n",
       "      <th></th>\n",
       "      <th>Nasdaq Traded</th>\n",
       "      <th>Symbol</th>\n",
       "      <th>Security Name</th>\n",
       "      <th>Listing Exchange</th>\n",
       "      <th>Market Category</th>\n",
       "      <th>ETF</th>\n",
       "      <th>Round Lot Size</th>\n",
       "      <th>Test Issue</th>\n",
       "      <th>Financial Status</th>\n",
       "      <th>CQS Symbol</th>\n",
       "      <th>NASDAQ Symbol</th>\n",
       "      <th>NextShares</th>\n",
       "    </tr>\n",
       "  </thead>\n",
       "  <tbody>\n",
       "    <tr>\n",
       "      <th>0</th>\n",
       "      <td>Y</td>\n",
       "      <td>ARNA</td>\n",
       "      <td>Arena Pharmaceuticals, Inc. - Common Stock</td>\n",
       "      <td>Q</td>\n",
       "      <td>Q</td>\n",
       "      <td>N</td>\n",
       "      <td>100.0</td>\n",
       "      <td>N</td>\n",
       "      <td>N</td>\n",
       "      <td>None</td>\n",
       "      <td>ARNA</td>\n",
       "      <td>N</td>\n",
       "    </tr>\n",
       "    <tr>\n",
       "      <th>1</th>\n",
       "      <td>Y</td>\n",
       "      <td>ARNC</td>\n",
       "      <td>Arconic Corporation Common Stock</td>\n",
       "      <td>N</td>\n",
       "      <td></td>\n",
       "      <td>N</td>\n",
       "      <td>100.0</td>\n",
       "      <td>N</td>\n",
       "      <td>None</td>\n",
       "      <td>ARNC</td>\n",
       "      <td>ARNC</td>\n",
       "      <td>N</td>\n",
       "    </tr>\n",
       "  </tbody>\n",
       "</table>\n",
       "</div>"
      ],
      "text/plain": [
       "  Nasdaq Traded Symbol                               Security Name  \\\n",
       "0             Y   ARNA  Arena Pharmaceuticals, Inc. - Common Stock   \n",
       "1             Y   ARNC           Arconic Corporation Common Stock    \n",
       "\n",
       "  Listing Exchange Market Category ETF Round Lot Size Test Issue  \\\n",
       "0                Q               Q   N          100.0          N   \n",
       "1                N                   N          100.0          N   \n",
       "\n",
       "  Financial Status CQS Symbol NASDAQ Symbol NextShares  \n",
       "0                N       None          ARNA          N  \n",
       "1             None       ARNC          ARNC          N  "
      ]
     },
     "execution_count": 25,
     "metadata": {},
     "output_type": "execute_result"
    }
   ],
   "source": [
    "metadata.createOrReplaceTempView(\"metatbl\")\n",
    "spark.sql(\"select * from metatbl where symbol like 'ARN%'\").toPandas()"
   ]
  },
  {
   "cell_type": "code",
   "execution_count": 26,
   "metadata": {},
   "outputs": [],
   "source": [
    "\n",
    "##TODO: Write your code here (Replacing the stock with the correct name)\n",
    "stocks = stocks.withColumn('stock', F.when(F.col('stock')=='ARNCA', 'ARNC').otherwise(F.col(\"stock\")))"
   ]
  },
  {
   "cell_type": "code",
   "execution_count": 27,
   "metadata": {},
   "outputs": [],
   "source": [
    "# checking again.\n",
    "stock_list = list(set(stocks.select('stock').rdd.flatMap(lambda x: x).collect()))\n",
    "\n",
    "meta_data_list= list(set(metadata.select('symbol').rdd.flatMap(lambda x: x).collect()))\n",
    "\n",
    "for stock in stock_list:\n",
    "    if stock not in meta_data_list:\n",
    "        print(stock,'stock not in metadata')\n",
    "        \n",
    "# looks like problem is fixed"
   ]
  },
  {
   "cell_type": "markdown",
   "metadata": {},
   "source": [
    "## Timeliness\n",
    "\n",
    "Timeliness is the degree to which data represent reality from the required point in time.\n",
    "\n",
    "Timeliness expects that the data within your dataset is sufficiently up to date. If you are trying to answer questions that relate to recent problems, having timely data is extremely important. For example, you cannot use current flight patterns to model how many aeroplanes will be required by a large aeronautics company within the next 5-10 years. \n",
    "\n",
    "Similarly, when answering questions that require real-time answers (e.g., predicting when a pipe will burst in a manufacturing plant), you have to be set up to receive real-time data from sensors and loggers. \n",
    "\n",
    "- **Measured by**: Time difference;\n",
    "- **Units**: Time;\n",
    "- **Related to**: Accuracy because it will decay as time progress. "
   ]
  },
  {
   "cell_type": "markdown",
   "metadata": {},
   "source": [
    "It is important to see the latest value for each of the stocks that we are looking at:"
   ]
  },
  {
   "cell_type": "code",
   "execution_count": 28,
   "metadata": {},
   "outputs": [
    {
     "name": "stdout",
     "output_type": "stream",
     "text": [
      "+-----+----------+\n",
      "|stock| max(Date)|\n",
      "+-----+----------+\n",
      "|   AA|1962-12-31|\n",
      "|  XOM|1962-12-31|\n",
      "|  DIS|1962-12-31|\n",
      "|   PG|1962-12-31|\n",
      "|   GT|1962-12-31|\n",
      "|   MO|1962-12-31|\n",
      "|  IBM|1962-12-31|\n",
      "|  JNJ|1962-12-31|\n",
      "|  CVX|1962-12-31|\n",
      "|  DTE|1962-12-31|\n",
      "|   BA|1962-12-31|\n",
      "|   GE|1962-12-31|\n",
      "|  HPQ|1962-12-31|\n",
      "| ARNC|1962-12-31|\n",
      "|  CAT|1962-12-31|\n",
      "|   IP|1962-12-31|\n",
      "|   FL|1962-12-31|\n",
      "|   ED|1962-12-31|\n",
      "|  NAV|1962-11-30|\n",
      "|   KO|1962-12-31|\n",
      "+-----+----------+\n",
      "\n"
     ]
    }
   ],
   "source": [
    "stocks.groupBy('stock').agg(F.max('Date')).show()"
   ]
  },
  {
   "cell_type": "markdown",
   "metadata": {},
   "source": [
    "Sometimes, some of these axes of data quality will be less important than others. \n",
    "This is one of those cases where it is less important to have timely data, since \n",
    "we are trying to create a training dataset for a stock market prediction algorithm. \n",
    "\n",
    "It is important to know the context in which you are doing your modelling. "
   ]
  },
  {
   "cell_type": "markdown",
   "metadata": {},
   "source": [
    "### Gaps in the dataset\n",
    "\n",
    "Let's see if we can find inconsistencies in the time series by having a look at the number of entries for each of the tickers.\n",
    " \n",
    "> ℹ️ **Instructions** ℹ️\n",
    ">\n",
    "> Uncomment and use the below code to determine which dates had entries that were not equal to 20. You may have to change the name of the dataframe to see the resultant output\n",
    ">\n",
    ">*You may use as many coding cells as necessary.*"
   ]
  },
  {
   "cell_type": "code",
   "execution_count": 29,
   "metadata": {},
   "outputs": [
    {
     "name": "stdout",
     "output_type": "stream",
     "text": [
      "+----------+-----+\n",
      "|      date|count|\n",
      "+----------+-----+\n",
      "|1962-02-06|   23|\n",
      "|1962-03-20|   19|\n",
      "|1962-09-18|   21|\n",
      "|1962-09-10|   21|\n",
      "|1962-09-13|   21|\n",
      "|1962-03-19|   19|\n",
      "|1962-12-18|   19|\n",
      "|1962-07-25|   19|\n",
      "|1962-02-27|   23|\n",
      "|1962-02-15|   23|\n",
      "|1962-03-14|   19|\n",
      "|1962-02-16|   23|\n",
      "|1962-02-08|   23|\n",
      "|1962-06-07|   19|\n",
      "|1962-02-02|   23|\n",
      "|1962-09-20|   21|\n",
      "|1962-09-19|   21|\n",
      "|1962-02-13|   23|\n",
      "|1962-02-01|   23|\n",
      "|1962-09-07|   21|\n",
      "|1962-12-03|   19|\n",
      "|1962-06-12|   19|\n",
      "|1962-09-21|   21|\n",
      "|1962-02-28|   23|\n",
      "|1962-12-31|   19|\n",
      "|1962-02-23|   23|\n",
      "|1962-02-19|   23|\n",
      "|1962-02-07|   23|\n",
      "|1962-12-21|   19|\n",
      "|1962-09-06|   21|\n",
      "|1962-09-28|   21|\n",
      "|1962-09-14|   21|\n",
      "|1962-09-17|   21|\n",
      "|1962-02-12|   23|\n",
      "|1962-07-20|   19|\n",
      "|1962-02-09|   23|\n",
      "|1962-09-12|   21|\n",
      "|1962-02-14|   23|\n",
      "|1962-02-21|   23|\n",
      "|1962-09-26|   21|\n",
      "|1962-02-26|   23|\n",
      "|1962-03-22|   19|\n",
      "|1962-06-06|   19|\n",
      "|1962-09-04|   21|\n",
      "|1962-12-28|   19|\n",
      "|1962-09-05|   21|\n",
      "|1962-12-20|   19|\n",
      "|1962-09-25|   21|\n",
      "|1962-09-11|   21|\n",
      "|1962-09-27|   21|\n",
      "|1962-02-05|   23|\n",
      "|1962-09-24|   21|\n",
      "|1962-02-20|   23|\n",
      "|1962-12-19|   19|\n",
      "|1962-07-27|   19|\n",
      "|1962-07-02|   19|\n",
      "|1962-03-26|   19|\n",
      "|1962-12-12|   18|\n",
      "|1962-12-07|   18|\n",
      "|1962-06-18|   19|\n",
      "|1962-06-15|   19|\n",
      "|1962-03-16|   19|\n",
      "|1962-03-13|   19|\n",
      "|1962-06-13|   19|\n",
      "|1962-06-29|   19|\n",
      "|1962-03-15|   19|\n",
      "|1962-07-24|   19|\n",
      "|1962-07-19|   19|\n",
      "|1962-03-05|   19|\n",
      "|1962-07-03|   19|\n",
      "|1962-03-01|   19|\n",
      "|1962-12-14|   18|\n",
      "|1962-06-27|   19|\n",
      "|1962-12-11|   18|\n",
      "|1962-07-10|   19|\n",
      "|1962-12-17|   18|\n",
      "|1962-06-20|   19|\n",
      "|1962-03-07|   19|\n",
      "|1962-07-13|   19|\n",
      "|1962-06-22|   19|\n",
      "|1962-07-16|   19|\n",
      "|1962-06-26|   19|\n",
      "|1962-07-23|   19|\n",
      "|1962-03-28|   19|\n",
      "|1962-07-17|   19|\n",
      "|1962-07-18|   19|\n",
      "|1962-06-04|   19|\n",
      "|1962-12-27|   19|\n",
      "|1962-07-31|   19|\n",
      "|1962-06-19|   19|\n",
      "|1962-07-26|   19|\n",
      "|1962-12-06|   18|\n",
      "|1962-03-30|   19|\n",
      "|1962-06-11|   19|\n",
      "|1962-06-14|   19|\n",
      "|1962-06-01|   19|\n",
      "|1962-06-05|   19|\n",
      "|1962-06-25|   19|\n",
      "|1962-03-06|   19|\n",
      "|1962-03-08|   19|\n",
      "|1962-03-21|   19|\n",
      "|1962-03-29|   19|\n",
      "|1962-03-23|   19|\n",
      "|1962-03-12|   19|\n",
      "|1962-07-06|   19|\n",
      "|1962-12-26|   19|\n",
      "|1962-12-24|   19|\n",
      "|1962-07-09|   19|\n",
      "|1962-12-04|   18|\n",
      "|1962-06-28|   19|\n",
      "|1962-07-05|   19|\n",
      "|1962-07-11|   19|\n",
      "|1962-12-13|   18|\n",
      "|1962-07-12|   19|\n",
      "|1962-03-27|   19|\n",
      "|1962-12-10|   18|\n",
      "|1962-03-02|   19|\n",
      "|1962-06-21|   19|\n",
      "|1962-03-09|   19|\n",
      "|1962-07-30|   19|\n",
      "|1962-12-05|   18|\n",
      "|1962-06-08|   19|\n",
      "+----------+-----+\n",
      "\n"
     ]
    }
   ],
   "source": [
    "stocks.orderBy('date').groupby('date').count().where(F.col('count') != 20).show(400)\n"
   ]
  },
  {
   "cell_type": "markdown",
   "metadata": {},
   "source": [
    "> ℹ️ **Instructions** ℹ️\n",
    ">\n",
    "> From the above result, investigate the number of times a stock appears for the given month. You can infer the months by using the output of the previous cell.\n",
    ">\n",
    ">*You may use as many coding cells as necessary.*"
   ]
  },
  {
   "cell_type": "code",
   "execution_count": 30,
   "metadata": {},
   "outputs": [
    {
     "name": "stdout",
     "output_type": "stream",
     "text": [
      "+-----------+-----+-----+\n",
      "|month(date)|stock|count|\n",
      "+-----------+-----+-----+\n",
      "|          1|   AA|   22|\n",
      "|          1| ARNC|   22|\n",
      "|          1|   BA|   22|\n",
      "|          1|  CAT|   22|\n",
      "|          1|  CVX|   22|\n",
      "|          1|  DIS|   22|\n",
      "|          1|  DTE|   22|\n",
      "|          1|   ED|   22|\n",
      "|          1|   FL|   22|\n",
      "|          1|   GE|   22|\n",
      "|          1|   GT|   22|\n",
      "|          1|  HPQ|   22|\n",
      "|          1|  IBM|   22|\n",
      "|          1|   IP|   22|\n",
      "|          1|  JNJ|   22|\n",
      "|          1|   KO|   22|\n",
      "|          1|   MO|   22|\n",
      "|          1|  NAV|   22|\n",
      "|          1|   PG|   22|\n",
      "|          1|  XOM|   22|\n",
      "+-----------+-----+-----+\n",
      "only showing top 20 rows\n",
      "\n"
     ]
    }
   ],
   "source": [
    "#TODO: Write your code here\n",
    "stocks.groupby(F.month('date'),'stock').count().orderBy('month(date)','stock').show()\n"
   ]
  },
  {
   "cell_type": "markdown",
   "metadata": {},
   "source": [
    "## Uniqueness\n",
    "\n",
    "Uniqueness requires that nothing will be recorded more than once based upon how that thing is identified. It is the inverse of an assessment of the level of duplication.\n",
    "\n",
    "Each entry within the dataset should only relate to a single event that has occurred and thus should not be duplicated. This is largely mediated by having the appropriate primary key, which means sticking to the requirements of a good primary key. All fields in the tables should be non-transitively dependent on the primary key.\n",
    "\n",
    "As such, deduplication of the dataset may be required. \n",
    "\n",
    "- **Measured by**: Analysis of the number of things assessed in the “real world” compared to the number of records of things in the dataset. This requires a reference dataset which is the ground truth;\n",
    "- **Units**: Percentage;\n",
    "- **Related to**: Consistency."
   ]
  },
  {
   "cell_type": "markdown",
   "metadata": {},
   "source": [
    "### Duplication Test\n",
    "For time-series data, it is important to check for duplications, as we typically expect all values to be unique within the dataset.\n",
    "\n",
    "The first thing to check will be if the primary key values within the dataset are unique - in our case, that will be a combination of the stock name and the date.\n",
    "\n",
    "Secondly, we want to check if the entries are all unique, which is done by checking for duplicates across that whole dataset."
   ]
  },
  {
   "cell_type": "markdown",
   "metadata": {},
   "source": [
    "> ℹ️ **Instructions** ℹ️\n",
    ">\n",
    "> Write code to determine if there are any duplicates within the data, and then proceed to correct this by dropping them from the dataframe.\n",
    ">\n",
    ">*You may use as many coding cells as necessary.*"
   ]
  },
  {
   "cell_type": "code",
   "execution_count": 31,
   "metadata": {},
   "outputs": [
    {
     "name": "stdout",
     "output_type": "stream",
     "text": [
      "+----------+-----+-----+\n",
      "|      date|stock|count|\n",
      "+----------+-----+-----+\n",
      "|1962-02-09|  HPQ|    4|\n",
      "|1962-02-08|  HPQ|    4|\n",
      "|1962-02-27|  HPQ|    4|\n",
      "|1962-02-23|  HPQ|    4|\n",
      "|1962-02-02|  HPQ|    4|\n",
      "|1962-02-16|  HPQ|    4|\n",
      "|1962-02-01|  HPQ|    4|\n",
      "|1962-02-15|  HPQ|    4|\n",
      "|1962-02-13|  HPQ|    4|\n",
      "|1962-02-05|  HPQ|    4|\n",
      "|1962-02-07|  HPQ|    4|\n",
      "|1962-02-06|  HPQ|    4|\n",
      "|1962-02-26|  HPQ|    4|\n",
      "|1962-02-20|  HPQ|    4|\n",
      "|1962-02-28|  HPQ|    4|\n",
      "|1962-02-12|  HPQ|    4|\n",
      "|1962-02-14|  HPQ|    4|\n",
      "|1962-02-19|  HPQ|    4|\n",
      "|1962-02-21|  HPQ|    4|\n",
      "|1962-09-27|   ED|    2|\n",
      "+----------+-----+-----+\n",
      "only showing top 20 rows\n",
      "\n"
     ]
    }
   ],
   "source": [
    "#TODO: Write your code here\n",
    "stocks.groupby(['date', 'stock']).count().where('count > 1').sort('count', ascending=False).show()\n",
    "# there seems to be some duplicates, lets drop those"
   ]
  },
  {
   "cell_type": "code",
   "execution_count": 32,
   "metadata": {},
   "outputs": [
    {
     "name": "stdout",
     "output_type": "stream",
     "text": [
      "+----+-----+-----+\n",
      "|date|stock|count|\n",
      "+----+-----+-----+\n",
      "+----+-----+-----+\n",
      "\n"
     ]
    }
   ],
   "source": [
    "# dropping and checking again\n",
    "stocks=stocks.dropDuplicates(['date', 'stock'])\n",
    "stocks.groupby(['date', 'stock']).count().where('count > 1').sort('count', ascending=False).show()\n"
   ]
  },
  {
   "cell_type": "markdown",
   "metadata": {},
   "source": [
    "## Validity\n",
    "Data is valid if it conforms to the syntax (format, type, range) of its definition.\n",
    "\n",
    "Certain values within a field may have specific criteria required to make it valid, e.g., numerical columns cannot contain alphabetical characters, which can occur due to scientific notation.\n",
    "\n",
    "This can be more difficult to determine in stings, in which case you may have to check using regex. \n",
    "\n",
    "- **Measured by**: Comparison between the data and metadata or documentation for the data item;\n",
    "- **Units**: Percentage of data items deemed Valid or Invalid;\n",
    "- **Related to**: Accuracy, Completeness, Consistency, and Uniqueness."
   ]
  },
  {
   "cell_type": "markdown",
   "metadata": {},
   "source": [
    "We need to first define what we expect from our dataset:\n",
    "\n",
    "- stock: string (nullable = true) => Should be contained in the list of expected tickers\n",
    "- date: date (nullable = true) => Should conform to date format, and be in the past\n",
    "- open: double (nullable = true) => Should be positive or 0\n",
    "- high: double (nullable = true) => Should be positive or 0\n",
    "- low: double (nullable = true) => Should be positive or 0 (should be < high)\n",
    "- close: double (nullable = true) => Should be positive or 0 (should be <= high )\n",
    "- adj_close: double (nullable = true) => Should be positive or 0\n",
    "- volume: integer (nullable = true) => Should be positive or 0\n",
    "- high_avg: double (nullable = true) => Derived (not needed to test)\n",
    "- high_imp: double (nullable = true) => Derived (not needed to test)\n",
    "- day_of_week: string (nullable = true) => Derived (not needed to test)\n",
    "\n",
    "*Is there any other logic that we can incorporate?*"
   ]
  },
  {
   "cell_type": "markdown",
   "metadata": {},
   "source": [
    "> ℹ️ **Instructions** ℹ️\n",
    ">\n",
    "> Use the metadata to check if all the stocks in your current dataframe are valid. In other words, make sure you have no foreign/unknown tickers in your dataframe.\n",
    ">\n",
    ">*You may use as many coding cells as necessary.*\n"
   ]
  },
  {
   "cell_type": "code",
   "execution_count": 33,
   "metadata": {},
   "outputs": [],
   "source": [
    "#TODO: Write your code here\n",
    "stock_list = list(set(stocks.select('stock').rdd.flatMap(lambda x: x).collect()))\n",
    "\n",
    "meta_data_list= list(set(metadata.select('symbol').rdd.flatMap(lambda x: x).collect()))\n",
    "\n",
    "for stock in stock_list:\n",
    "    if stock not in meta_data_list:\n",
    "        print(stock,'stock not in metadata')\n",
    "        \n",
    "# looks like there are no foreign tikers in dataframe"
   ]
  },
  {
   "cell_type": "markdown",
   "metadata": {},
   "source": [
    "> ℹ️ **Instructions** ℹ️\n",
    ">\n",
    ">\n",
    ">Check if the date column contains only valid dates and all dates are in the past.\n",
    ">\n",
    ">*Valid dates should already be checked in the data reading step.*"
   ]
  },
  {
   "cell_type": "code",
   "execution_count": 34,
   "metadata": {},
   "outputs": [
    {
     "name": "stdout",
     "output_type": "stream",
     "text": [
      "+----------+----------+\n",
      "| min(date)| max(date)|\n",
      "+----------+----------+\n",
      "|1962-01-02|1962-12-31|\n",
      "+----------+----------+\n",
      "\n"
     ]
    }
   ],
   "source": [
    "#TODO: Write your code here\n",
    "# checking if date is from 1962 and also all dates are in past\n",
    "\n",
    "stocks.agg(F.min(\"date\"), F.max(\"date\")).show()\n"
   ]
  },
  {
   "cell_type": "markdown",
   "metadata": {},
   "source": [
    "> ℹ️ **Instructions** ℹ️\n",
    ">\n",
    ">Check that all of numerical columns are positive."
   ]
  },
  {
   "cell_type": "code",
   "execution_count": 35,
   "metadata": {},
   "outputs": [
    {
     "name": "stdout",
     "output_type": "stream",
     "text": [
      "Count of negative values in column: open\n",
      "+----+----+----+---+-----+---------+------+-----+\n",
      "|date|open|high|low|close|adj_close|Volume|stock|\n",
      "+----+----+----+---+-----+---------+------+-----+\n",
      "+----+----+----+---+-----+---------+------+-----+\n",
      "\n",
      "Count of negative values in column: high\n",
      "+----+----+----+---+-----+---------+------+-----+\n",
      "|date|open|high|low|close|adj_close|Volume|stock|\n",
      "+----+----+----+---+-----+---------+------+-----+\n",
      "+----+----+----+---+-----+---------+------+-----+\n",
      "\n",
      "Count of negative values in column: low\n",
      "+----+----+----+---+-----+---------+------+-----+\n",
      "|date|open|high|low|close|adj_close|Volume|stock|\n",
      "+----+----+----+---+-----+---------+------+-----+\n",
      "+----+----+----+---+-----+---------+------+-----+\n",
      "\n",
      "Count of negative values in column: close\n",
      "+----+----+----+---+-----+---------+------+-----+\n",
      "|date|open|high|low|close|adj_close|Volume|stock|\n",
      "+----+----+----+---+-----+---------+------+-----+\n",
      "+----+----+----+---+-----+---------+------+-----+\n",
      "\n",
      "Count of negative values in column: adj_close\n",
      "+----+----+----+---+-----+---------+------+-----+\n",
      "|date|open|high|low|close|adj_close|Volume|stock|\n",
      "+----+----+----+---+-----+---------+------+-----+\n",
      "+----+----+----+---+-----+---------+------+-----+\n",
      "\n",
      "Count of negative values in column: volume\n",
      "+----+----+----+---+-----+---------+------+-----+\n",
      "|date|open|high|low|close|adj_close|Volume|stock|\n",
      "+----+----+----+---+-----+---------+------+-----+\n",
      "+----+----+----+---+-----+---------+------+-----+\n",
      "\n"
     ]
    }
   ],
   "source": [
    "#TODO: Write your code here\n",
    "interested_cols=['open', 'high', 'low', 'close','adj_close', 'volume']\n",
    "for col in interested_cols:\n",
    "    print('Count of negative values in column:',col)\n",
    "    stocks.filter(F.col(col)<0).show()"
   ]
  },
  {
   "cell_type": "markdown",
   "metadata": {},
   "source": [
    "### Save Updates\n",
    "\n",
    "With our initial work of checking the various dimensions of the data quality completed, we can now save these results to a CSV file.  "
   ]
  },
  {
   "cell_type": "code",
   "execution_count": 36,
   "metadata": {},
   "outputs": [],
   "source": [
    "pd_df = stocks.toPandas()"
   ]
  },
  {
   "cell_type": "code",
   "execution_count": 37,
   "metadata": {},
   "outputs": [],
   "source": [
    "pd_df.to_csv('./nabeel_moosajee_data_profiling.csv')"
   ]
  }
 ],
 "metadata": {
  "interpreter": {
   "hash": "24a0a2ddc4dffcb168e507551dd24967ddc40ea2df7a72a200a74e0ae6d88beb"
  },
  "kernelspec": {
   "display_name": "Python 3 (ipykernel)",
   "language": "python",
   "name": "python3"
  },
  "language_info": {
   "codemirror_mode": {
    "name": "ipython",
    "version": 3
   },
   "file_extension": ".py",
   "mimetype": "text/x-python",
   "name": "python",
   "nbconvert_exporter": "python",
   "pygments_lexer": "ipython3",
   "version": "3.9.7"
  }
 },
 "nbformat": 4,
 "nbformat_minor": 4
}
